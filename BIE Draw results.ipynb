{
 "cells": [
  {
   "cell_type": "markdown",
   "metadata": {},
   "source": [
    "# FIE for Dirichlet BVP in a circle with Polynomial Gauss rule"
   ]
  },
  {
   "cell_type": "code",
   "execution_count": 2,
   "metadata": {},
   "outputs": [],
   "source": [
    "import numpy as np\n",
    "import scipy.integrate as integrate\n",
    "#import scipy.interpolate as interp\n",
    "%matplotlib inline\n",
    "import matplotlib.pyplot as plt\n",
    "import scipy\n",
    "import math\n",
    "import time\n",
    "\n",
    "import os\n",
    "\n",
    "import plotly.graph_objects as go\n",
    "from IPython.display import display"
   ]
  },
  {
   "cell_type": "code",
   "execution_count": 2,
   "metadata": {},
   "outputs": [],
   "source": [
    "import pickle\n",
    "fname1 = 'gauss3_336_cos10phi.pkl'\n",
    "fname2 = 'simpson_336_cos10phi.pkl'\n",
    "er_surface1 = pickle.load( open(fname1, 'rb' ) )\n",
    "er_surface2 = pickle.load( open(fname2 , 'rb' ) )"
   ]
  },
  {
   "cell_type": "code",
   "execution_count": 3,
   "metadata": {},
   "outputs": [],
   "source": [
    "phis =  np.linspace(0, 2*np.pi, 300)\n",
    "rs =    np.linspace(0, 1, 100, endpoint=False)\n",
    "rs_m, phis_m = np.meshgrid(rs, phis, indexing='ij')\n",
    "x_mesh, y_mesh = rs_m * np.cos(phis_m), rs_m * np.sin(phis_m)"
   ]
  },
  {
   "cell_type": "code",
   "execution_count": 4,
   "metadata": {},
   "outputs": [],
   "source": [
    "def E(r, phi):\n",
    "    \"\"\"The exact solution of the Dirichlet BVP\n",
    "    for Laplace equation\"\"\"\n",
    "    return (r**10) * np.cos(10*phi)"
   ]
  },
  {
   "cell_type": "code",
   "execution_count": 5,
   "metadata": {},
   "outputs": [],
   "source": [
    "E_mesh = E(rs_m, phis_m)"
   ]
  },
  {
   "cell_type": "code",
   "execution_count": 6,
   "metadata": {},
   "outputs": [
    {
     "data": {
      "text/plain": [
       "(100, 300)"
      ]
     },
     "execution_count": 6,
     "metadata": {},
     "output_type": "execute_result"
    }
   ],
   "source": [
    "er_surface2.shape"
   ]
  },
  {
   "cell_type": "code",
   "execution_count": 3,
   "metadata": {},
   "outputs": [
    {
     "ename": "NameError",
     "evalue": "name 'E_mesh' is not defined",
     "output_type": "error",
     "traceback": [
      "\u001b[0;31m---------------------------------------------------------------------------\u001b[0m",
      "\u001b[0;31mNameError\u001b[0m                                 Traceback (most recent call last)",
      "\u001b[0;32m<ipython-input-3-e58cfb5a633b>\u001b[0m in \u001b[0;36m<module>\u001b[0;34m\u001b[0m\n\u001b[0;32m----> 1\u001b[0;31m surface1 = go.Surface(z=E_mesh, x=x_mesh, y=y_mesh,\n\u001b[0m\u001b[1;32m      2\u001b[0m                          \u001b[0msurfacecolor\u001b[0m\u001b[0;34m=\u001b[0m\u001b[0mnp\u001b[0m\u001b[0;34m.\u001b[0m\u001b[0mlog10\u001b[0m\u001b[0;34m(\u001b[0m\u001b[0mnp\u001b[0m\u001b[0;34m.\u001b[0m\u001b[0mabs\u001b[0m\u001b[0;34m(\u001b[0m\u001b[0mer_surface1\u001b[0m\u001b[0;34m)\u001b[0m\u001b[0;34m+\u001b[0m\u001b[0;36m1e-16\u001b[0m\u001b[0;34m)\u001b[0m\u001b[0;34m,\u001b[0m\u001b[0;34m\u001b[0m\u001b[0;34m\u001b[0m\u001b[0m\n\u001b[1;32m      3\u001b[0m                          \u001b[0mcolorscale\u001b[0m\u001b[0;34m=\u001b[0m\u001b[0;34m'RdBu'\u001b[0m\u001b[0;34m,\u001b[0m\u001b[0;34m\u001b[0m\u001b[0;34m\u001b[0m\u001b[0m\n\u001b[1;32m      4\u001b[0m                          \u001b[0mreversescale\u001b[0m\u001b[0;34m=\u001b[0m\u001b[0;32mTrue\u001b[0m\u001b[0;34m,\u001b[0m\u001b[0;34m\u001b[0m\u001b[0;34m\u001b[0m\u001b[0m\n\u001b[1;32m      5\u001b[0m                          \u001b[0mcmin\u001b[0m \u001b[0;34m=\u001b[0m \u001b[0;34m-\u001b[0m\u001b[0;36m16\u001b[0m\u001b[0;34m,\u001b[0m\u001b[0;34m\u001b[0m\u001b[0;34m\u001b[0m\u001b[0m\n",
      "\u001b[0;31mNameError\u001b[0m: name 'E_mesh' is not defined"
     ]
    }
   ],
   "source": [
    "surface1 = go.Surface(z=E_mesh, x=x_mesh, y=y_mesh,\n",
    "                         surfacecolor=np.log10(np.abs(er_surface1)+1e-16),\n",
    "                         colorscale='RdBu',\n",
    "                         reversescale=True,\n",
    "                         cmin = -16,\n",
    "                         cmax = -7,\n",
    "                         colorbar=dict(titleside=\"top\",\n",
    "                                       tickmode=\"array\",\n",
    "                                       showexponent = 'all',\n",
    "                                       exponentformat = 'e',\n",
    "                                       tickvals=np.arange(-16, -5, 2),\n",
    "                                       ticktext=['1e{:d}'.format(i) for i in np.arange(-16, -5, 2)],\n",
    "                                       # ticks=\"outside\"\n",
    "                                       yanchor=\"middle\", y=0.5,\n",
    "                                       thicknessmode=\"pixels\", thickness=30,\n",
    "                                       lenmode=\"pixels\", len=200\n",
    "                                      ),\n",
    "                         showscale=False\n",
    "                        )\n",
    "\n",
    "surface2 = go.Surface(z=E_mesh, x=x_mesh, y=y_mesh,\n",
    "                         surfacecolor=np.log10(np.abs(er_surface2)+1e-16),\n",
    "                         colorscale='RdBu',\n",
    "                         reversescale=True,\n",
    "                         cmin = -16,\n",
    "                         cmax = -7,\n",
    "                         colorbar=dict(titleside=\"top\",\n",
    "                                       tickmode=\"array\",\n",
    "                                       showexponent = 'all',\n",
    "                                       exponentformat = 'e',\n",
    "                                       tickvals=np.arange(-16, -5, 2),\n",
    "                                       ticktext=['1e{:d}'.format(i) for i in np.arange(-16, -5, 2)],\n",
    "                                       # ticks=\"outside\"\n",
    "                                       yanchor=\"middle\", y=0.5,\n",
    "                                       thicknessmode=\"pixels\", thickness=80,\n",
    "                                       lenmode=\"pixels\", len=800,\n",
    "                                       tickfont=dict(size=32, color='black')\n",
    "                                      ),\n",
    "                         showscale=False\n",
    "                        )"
   ]
  },
  {
   "cell_type": "code",
   "execution_count": 1,
   "metadata": {},
   "outputs": [
    {
     "ename": "NameError",
     "evalue": "name 'go' is not defined",
     "output_type": "error",
     "traceback": [
      "\u001b[0;31m---------------------------------------------------------------------------\u001b[0m",
      "\u001b[0;31mNameError\u001b[0m                                 Traceback (most recent call last)",
      "\u001b[0;32m<ipython-input-1-6f469d5cdad4>\u001b[0m in \u001b[0;36m<module>\u001b[0;34m\u001b[0m\n\u001b[1;32m      6\u001b[0m )\n\u001b[1;32m      7\u001b[0m \u001b[0;34m\u001b[0m\u001b[0m\n\u001b[0;32m----> 8\u001b[0;31m layout = go.Layout(scene_xaxis_visible=False,\n\u001b[0m\u001b[1;32m      9\u001b[0m                    \u001b[0mscene_yaxis_visible\u001b[0m\u001b[0;34m=\u001b[0m\u001b[0;32mFalse\u001b[0m\u001b[0;34m,\u001b[0m\u001b[0;34m\u001b[0m\u001b[0;34m\u001b[0m\u001b[0m\n\u001b[1;32m     10\u001b[0m                    \u001b[0mscene_zaxis_visible\u001b[0m\u001b[0;34m=\u001b[0m\u001b[0;32mFalse\u001b[0m\u001b[0;34m,\u001b[0m\u001b[0;34m\u001b[0m\u001b[0;34m\u001b[0m\u001b[0m\n",
      "\u001b[0;31mNameError\u001b[0m: name 'go' is not defined"
     ]
    }
   ],
   "source": [
    "#camera for cos10phi\n",
    "camera = dict(\n",
    "    up=dict(x=0, y=0, z=1),\n",
    "    eye=dict(x=0., y=1.5, z=0.65),\n",
    "    center=dict(x=0, y=0, z=-0.1)\n",
    ")\n",
    "\n",
    "layout = go.Layout(scene_xaxis_visible=False,\n",
    "                   scene_yaxis_visible=False,\n",
    "                   scene_zaxis_visible=False,\n",
    "                   scene_camera=camera,\n",
    "                   autosize=False,\n",
    "                   width=900,\n",
    "                   height=1000,\n",
    "                       margin=dict(\n",
    "                           l=5,\n",
    "                           r=5,\n",
    "                           b=5,\n",
    "                           t=5\n",
    "                       ),\n",
    "                   paper_bgcolor='rgba(0,0,0,0)'\n",
    "                  )"
   ]
  },
  {
   "cell_type": "code",
   "execution_count": 9,
   "metadata": {},
   "outputs": [],
   "source": [
    "#figures render\n",
    "\n",
    "if not os.path.exists(\"images\"):\n",
    "    os.mkdir(\"images\")\n",
    "    \n",
    "fig = go.Figure(data=surface1,\n",
    "                layout=layout\n",
    "               )\n",
    "#fig.show()\n",
    "\n",
    "fig.write_image('images/'+fname1.replace('.pkl', '.png', 1))\n",
    "\n",
    "fig = go.Figure(data=surface2,\n",
    "                layout=layout\n",
    "               )\n",
    "\n",
    "fig.write_image('images/'+fname2.replace('.pkl', '.png', 1))\n",
    "\n",
    "#fig.show()"
   ]
  },
  {
   "cell_type": "raw",
   "metadata": {},
   "source": [
    "#colorbar render\n",
    "\n",
    "if not os.path.exists(\"images\"):\n",
    "    os.mkdir(\"images\")\n",
    "\n",
    "fig = go.Figure(data=surface2,\n",
    "                layout=layout\n",
    "               )\n",
    "\n",
    "fig.write_image('images/Colorbar.png')"
   ]
  },
  {
   "cell_type": "code",
   "execution_count": null,
   "metadata": {},
   "outputs": [],
   "source": []
  }
 ],
 "metadata": {
  "kernelspec": {
   "display_name": "Python 3",
   "language": "python",
   "name": "python3"
  },
  "language_info": {
   "codemirror_mode": {
    "name": "ipython",
    "version": 3
   },
   "file_extension": ".py",
   "mimetype": "text/x-python",
   "name": "python",
   "nbconvert_exporter": "python",
   "pygments_lexer": "ipython3",
   "version": "3.7.6"
  }
 },
 "nbformat": 4,
 "nbformat_minor": 4
}
