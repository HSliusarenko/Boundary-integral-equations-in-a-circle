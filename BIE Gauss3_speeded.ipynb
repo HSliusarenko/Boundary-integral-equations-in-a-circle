{
 "cells": [
  {
   "cell_type": "markdown",
   "metadata": {},
   "source": [
    "# FIE for Dirichlet BVP in a circle with Polynomial Gauss rule"
   ]
  },
  {
   "cell_type": "code",
   "execution_count": 1,
   "metadata": {},
   "outputs": [],
   "source": [
    "import numpy as np\n",
    "import scipy.integrate as integrate\n",
    "#import scipy.interpolate as interp\n",
    "%matplotlib inline\n",
    "import matplotlib.pyplot as plt\n",
    "import scipy\n",
    "import math\n",
    "import time\n"
   ]
  },
  {
   "cell_type": "code",
   "execution_count": 2,
   "metadata": {},
   "outputs": [],
   "source": [
    "def K_matrix(phis, taus):\n",
    "    \"\"\"Returns the Kernel for BIE as bivariate function\n",
    "    \"\"\"\n",
    "    return np.ones((len(phis), len(taus))) * 1/(2*np.pi)\n",
    "\n",
    "#np.cos(theta-phi)\n",
    "def ke(r, phi, theta):\n",
    "    \"\"\"Returns the kernel function to find \n",
    "    the solution of BIE for the hole space -\n",
    "    three-variate function\"\"\"\n",
    "    kernel = (1 - r*np.cos(theta-phi)) / \\\n",
    "                 (r**2 + 1 - 2*r*np.cos(theta-phi))\n",
    "    return kernel\n",
    "\n",
    "def ke_Poisson(r, phi, theta):\n",
    "    kernel = (1 - r*r) / \\\n",
    "                 (r**2 + 1 - 2*r*np.cos(theta-phi))\n",
    "    return kernel\n",
    "\n",
    "\n",
    "def h(phi):\n",
    "    \"\"\"Returns the right-hand side univariate function \n",
    "    in BIE\"\"\"\n",
    "    return np.cos(2*phi)\n",
    "\n",
    "\n",
    "def E(r, phi):\n",
    "    \"\"\"The exact solution of the Dirichlet BVP\n",
    "    for Laplace equation\"\"\"\n",
    "    return (r**2) * np.cos(2*phi)"
   ]
  },
  {
   "cell_type": "code",
   "execution_count": 3,
   "metadata": {},
   "outputs": [],
   "source": [
    "def taus_omegas_Gauss(a, b, x, w):\n",
    "    taus = (b - a)*0.5 * x + (a + b)*0.5\n",
    "    omegas = w*(b - a)*0.5\n",
    "    \n",
    "    return taus, omegas "
   ]
  },
  {
   "cell_type": "markdown",
   "metadata": {},
   "source": [
    "## Polynomial Gauss"
   ]
  },
  {
   "cell_type": "code",
   "execution_count": 4,
   "metadata": {},
   "outputs": [],
   "source": [
    "def test(N):\n",
    "    a = 0\n",
    "    b = 2 * np.pi\n",
    "\n",
    "    print(N)    # number of macroblocks\n",
    "    order = 3   # Gaussian quadrature order\n",
    "\n",
    "    phis = np.linspace(0, 2*np.pi, 300)\n",
    "    rs =   np.linspace(1e-3, 1, 100, endpoint=False)\n",
    "\n",
    "    #### define taus, omegas for integration with macroblocks\n",
    "\n",
    "    x, w = np.polynomial.legendre.leggauss(order)\n",
    "    \n",
    "    interval = np.linspace(a, b, N+1)\n",
    "    taus = []; omegas = []\n",
    "    for a_, b_ in zip(interval[:-1], interval[1:]):\n",
    "        t_, o_ = taus_omegas_Gauss(a_, b_, x, w)\n",
    "        taus.append(t_)\n",
    "        omegas.append(o_)\n",
    "    taus = np.ravel(taus)\n",
    "    omegas = np.ravel(omegas)\n",
    "\n",
    "    #### block matrix and solution for sigmas\n",
    "\n",
    "    Ko_blocks = []\n",
    "    for taus_, omegas_ in zip(taus.reshape((N, order)),\n",
    "                              omegas.reshape((N, order))):\n",
    "        Ko_blocks.append(K_matrix(taus_, taus_) * omegas_)\n",
    "    Ko = scipy.linalg.block_diag(*Ko_blocks)\n",
    "\n",
    "    sigmas = np.dot(np.linalg.inv(np.identity(len(taus)) + Ko), 2*h(taus))\n",
    "\n",
    "    #### Nystrom algorithm\n",
    "\n",
    "    sigmas_ns = 2 * h(taus) - (K_matrix(taus, taus) * omegas) @ sigmas\n",
    "    \n",
    "    \n",
    "    #### final integration\n",
    "\n",
    "    rs_m, phis_m, thetas_m = np.meshgrid(rs, phis, taus, indexing='ij')\n",
    "    ke_matrix = ke(rs_m, phis_m, thetas_m)\n",
    "\n",
    "    integral = ((ke_matrix * sigmas_ns) * omegas).sum(axis=-1)\n",
    "\n",
    "    rs_m, phis_m = np.meshgrid(rs, phis, indexing='ij')\n",
    "    x_mesh, y_mesh = rs_m * np.cos(phis_m), rs_m * np.sin(phis_m)\n",
    "    u_mesh = 1/(2*np.pi) * integral\n",
    "\n",
    "    E_mesh = E(rs_m, phis_m)\n",
    "    \n",
    "    # l2errors = np.sqrt(np.sum(np.power((E_mesh - u_mesh)*(phis[1]-phis[0])*(rs[1]-rs[0]),2)))\n",
    "    \n",
    "    val = abs(E_mesh - u_mesh)\n",
    "    print(np.where(val == val.max()))\n",
    "    \n",
    "    return (abs(E_mesh - u_mesh)).max(), E_mesh - u_mesh, u_mesh, x_mesh, y_mesh"
   ]
  },
  {
   "cell_type": "code",
   "execution_count": 5,
   "metadata": {},
   "outputs": [
    {
     "name": "stdout",
     "output_type": "stream",
     "text": [
      "112\n",
      "(array([99]), array([295]))\n"
     ]
    }
   ],
   "source": [
    "errors,error_mesh, E_mesh, x_mesh, y_mesh = test(112)"
   ]
  },
  {
   "cell_type": "code",
   "execution_count": 6,
   "metadata": {},
   "outputs": [],
   "source": [
    "import pickle\n",
    "with open('gauss3_336_cos2phi.pkl', 'wb')as ff:\n",
    "    pickle.dump(error_mesh, ff)"
   ]
  },
  {
   "cell_type": "raw",
   "metadata": {},
   "source": [
    "El = 9\n",
    "errors = np.zeros(El)\n",
    "me = np.zeros(El)\n",
    "l2err = np.zeros(El)\n",
    "for i in range(El):\n",
    "    Ns = 7*2**i\n",
    "    errors[i], _,_,_,_ = test(Ns)"
   ]
  }
 ],
 "metadata": {
  "kernelspec": {
   "display_name": "Python 3",
   "language": "python",
   "name": "python3"
  },
  "language_info": {
   "codemirror_mode": {
    "name": "ipython",
    "version": 3
   },
   "file_extension": ".py",
   "mimetype": "text/x-python",
   "name": "python",
   "nbconvert_exporter": "python",
   "pygments_lexer": "ipython3",
   "version": "3.7.6"
  }
 },
 "nbformat": 4,
 "nbformat_minor": 4
}
