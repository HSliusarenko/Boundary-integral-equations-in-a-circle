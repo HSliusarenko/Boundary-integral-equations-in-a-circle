{
 "cells": [
  {
   "cell_type": "markdown",
   "metadata": {},
   "source": [
    "# FIE for Dirichlet BVP in a circle with Polynomial Gauss rule"
   ]
  },
  {
   "cell_type": "code",
   "execution_count": null,
   "metadata": {},
   "outputs": [],
   "source": [
    "import numpy as np\n",
    "import scipy.integrate as integrate\n",
    "#import scipy.interpolate as interp\n",
    "%matplotlib inline\n",
    "import matplotlib.pyplot as plt\n",
    "import scipy\n",
    "import math\n",
    "import time\n"
   ]
  },
  {
   "cell_type": "code",
   "execution_count": null,
   "metadata": {},
   "outputs": [],
   "source": [
    "def K_matrix(phis, taus):\n",
    "    \"\"\"Returns the Kernel for BIE as bivariate function\n",
    "    \"\"\"\n",
    "    return np.ones((len(phis), len(taus))) * 1/(2*np.pi)\n",
    "\n",
    "\n",
    "def ke(r, phi, theta):\n",
    "    \"\"\"Returns the kernel function to find \n",
    "    the solution of BIE for the hole space -\n",
    "    three-variate function\"\"\"\n",
    "\n",
    "    kernel = (1 - r*np.cos(theta-phi)) / \\\n",
    "                 (r**2 + 1 - 2*r*np.cos(theta-phi))\n",
    "    return kernel\n",
    "\n",
    "\n",
    "def h(phi):\n",
    "    \"\"\"Returns the right-hand side univariate function \n",
    "    in BIE\"\"\"\n",
    "\n",
    "    return np.cos(2*phi)\n",
    "\n",
    "\n",
    "def E(r, phi):\n",
    "    \"\"\"The exact solution of the Dirichlet BVP\n",
    "    for Laplace equation\"\"\"\n",
    "\n",
    "    return (r**2) * np.cos(2*phi)"
   ]
  },
  {
   "cell_type": "code",
   "execution_count": null,
   "metadata": {},
   "outputs": [],
   "source": [
    "def taus_omegas_Gauss(a, b, x, w):\n",
    "    taus = (b - a)*0.5 * x + (a + b)*0.5\n",
    "    omegas = w*(b - a)*0.5\n",
    "    \n",
    "    return taus, omegas "
   ]
  },
  {
   "cell_type": "code",
   "execution_count": null,
   "metadata": {},
   "outputs": [],
   "source": []
  },
  {
   "cell_type": "code",
   "execution_count": null,
   "metadata": {},
   "outputs": [],
   "source": []
  },
  {
   "cell_type": "markdown",
   "metadata": {},
   "source": [
    "## Polynomial Gauss"
   ]
  },
  {
   "cell_type": "code",
   "execution_count": null,
   "metadata": {},
   "outputs": [],
   "source": [
    "def test(N):\n",
    "\n",
    "    a = 0\n",
    "    b = 2 * np.pi\n",
    "\n",
    "    print(N)    # number of macroblocks\n",
    "    order = 2   # Gaussian quadrature order\n",
    "\n",
    "    phis =  np.pi   #np.linspace(0, 2*np.pi, 300)\n",
    "    rs =    0.99   #np.linspace(1e-3, 1, 200, endpoint=False)\n",
    "\n",
    "    #### define taus, omegas for integration with macroblocks\n",
    "\n",
    "    x, w = np.polynomial.legendre.leggauss(order)\n",
    "    \n",
    "    interval = np.linspace(a, b, N+1)\n",
    "    taus = []; omegas = []\n",
    "    for a_, b_ in zip(interval[:-1], interval[1:]):\n",
    "        t_, o_ = taus_omegas_Gauss(a_, b_, x, w)\n",
    "        taus.append(t_)\n",
    "        omegas.append(o_)\n",
    "    taus = np.ravel(taus)\n",
    "    omegas = np.ravel(omegas)\n",
    "\n",
    "    #### block matrix and solution for sigmas\n",
    "\n",
    "    Ko_blocks = []\n",
    "    for taus_, omegas_ in zip(taus.reshape((N, order)),\n",
    "                              omegas.reshape((N, order))):\n",
    "        Ko_blocks.append(K_matrix(taus_, taus_) * omegas_)\n",
    "    Ko = scipy.linalg.block_diag(*Ko_blocks)\n",
    "\n",
    "    sigmas = np.dot(np.linalg.inv(np.identity(len(taus)) + Ko), 2*h(taus))\n",
    "\n",
    "    #### Nystrom algorithm\n",
    "\n",
    "    sigmas_ns = 2 * h(taus) - (K_matrix(taus, taus) * omegas) @ sigmas\n",
    "    \n",
    "    \n",
    "    #### final integration\n",
    "\n",
    "    rs_m, phis_m, thetas_m = np.meshgrid(rs, phis, taus, indexing='ij')\n",
    "    ke_matrix = ke(rs_m, phis_m, thetas_m)\n",
    "\n",
    "    integral = ((ke_matrix * sigmas_ns) * omegas).sum(axis=-1)\n",
    "\n",
    "    rs_m, phis_m = np.meshgrid(rs, phis, indexing='ij')\n",
    "    #x_mesh, y_mesh = rs_m * np.cos(phis_m), rs_m * np.sin(phis_m)\n",
    "    u_mesh = 1/(2*np.pi) * integral\n",
    "\n",
    "    E_mesh = E(rs_m, phis_m)\n",
    "    \n",
    "    #l2errors = np.sqrt(np.sum(np.power((E_mesh - u_mesh)*(phis[1]-phis[0])*(rs[1]-rs[0]),2)))\n",
    "\n",
    "    return (abs(E_mesh - u_mesh)).max() #, np.mean(abs(E_mesh - u_mesh)) #, l2errors"
   ]
  },
  {
   "cell_type": "code",
   "execution_count": null,
   "metadata": {},
   "outputs": [],
   "source": [
    "El = 8\n",
    "errors = np.zeros(El)\n",
    "me = np.zeros(El)\n",
    "l2err = np.zeros(El)\n",
    "for i in range(El):\n",
    "    Ns = 7*2**i\n",
    "    errors[i] = test(Ns)"
   ]
  },
  {
   "cell_type": "code",
   "execution_count": null,
   "metadata": {},
   "outputs": [],
   "source": [
    "ns = 14*2**np.arange(El) \n",
    "ms = ns \n",
    "errs_rel = errors[:-1] / errors[1:]\n",
    "errs_log = np.log2(errs_rel)"
   ]
  },
  {
   "cell_type": "code",
   "execution_count": null,
   "metadata": {},
   "outputs": [],
   "source": [
    "msg = '{:>4}\\t{:>8}\\t{:>12}'.format('m', 'Max Error', 'Log_2(Max Error)')\n",
    "\n",
    "print(msg)\n",
    "print('-'*(len(msg)+6*4))\n",
    "\n",
    "for i in range(El): \n",
    "    if i == 0:\n",
    "        print('{:4d}\\t{:.2e}\\t{:>12}'.format(ms[i], errors[i],  ''))\n",
    "        \n",
    "    else:\n",
    "        print('{:4d}\\t{:.2e}\\t{:.2e}'.format(ms[i], errors[i], errs_log[i-1]))"
   ]
  },
  {
   "cell_type": "code",
   "execution_count": null,
   "metadata": {},
   "outputs": [],
   "source": [
    "errors"
   ]
  },
  {
   "cell_type": "code",
   "execution_count": null,
   "metadata": {},
   "outputs": [],
   "source": [
    "Sp=[2.55913381e+01, 1.18302133e+01, 7.22497423e+00,\n",
    "       3.43764344e+00, 1.36435065e+00, 4.06104825e-01, 5.99090938e-02,\n",
    "       1.60654739e-03]\n",
    "len(Sp)"
   ]
  },
  {
   "cell_type": "code",
   "execution_count": null,
   "metadata": {},
   "outputs": [],
   "source": [
    "len(errors[:-1])"
   ]
  },
  {
   "cell_type": "code",
   "execution_count": null,
   "metadata": {},
   "outputs": [],
   "source": [
    "errors[:-1]"
   ]
  },
  {
   "cell_type": "code",
   "execution_count": null,
   "metadata": {},
   "outputs": [],
   "source": [
    "plt.yscale('log')\n",
    "plt.xscale('log')\n",
    "h1, = plt.plot(ms[:-1], Sp, '.-', label='$B$ = 3H')\n",
    "h2, = plt.plot(ms[:-1], errors[:-1], '.-', label='$B$ = G2')\n",
    "plt.legend(handles=[h1, h2], loc=3, fancybox=True)\n",
    "plt.xlabel(\"Quaprature points\")\n",
    "plt.ylabel(\"Max error\")"
   ]
  },
  {
   "cell_type": "code",
   "execution_count": null,
   "metadata": {},
   "outputs": [],
   "source": [
    "h1, = plt.plot(ms, Gau, 'bo', label='$B$ = G3')\n",
    "plt.plot(ms, Gau, 'b-' )\n",
    "h2, = plt.plot(ms, Sp, 'ro', label='$B$ = 5H')\n",
    "plt.plot(ms, Sp, 'r-' )\n",
    "plt.xlabel(\"Quaprature points\")\n",
    "plt.ylabel(\"Error\")\n",
    "plt.yscale('log')\n",
    "plt.legend(handles=[h1, h2], loc=3, fancybox=True)"
   ]
  }
 ],
 "metadata": {
  "kernelspec": {
   "display_name": "Python 3",
   "language": "python",
   "name": "python3"
  },
  "language_info": {
   "codemirror_mode": {
    "name": "ipython",
    "version": 3
   },
   "file_extension": ".py",
   "mimetype": "text/x-python",
   "name": "python",
   "nbconvert_exporter": "python",
   "pygments_lexer": "ipython3",
   "version": "3.7.6"
  }
 },
 "nbformat": 4,
 "nbformat_minor": 4
}