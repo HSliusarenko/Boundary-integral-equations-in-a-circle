{
 "cells": [
  {
   "cell_type": "markdown",
   "metadata": {},
   "source": [
    "# FIE for Dirichlet BVP in a circle with Polynomial Gauss rule"
   ]
  },
  {
   "cell_type": "code",
   "execution_count": 1,
   "metadata": {},
   "outputs": [],
   "source": [
    "import numpy as np\n",
    "import scipy.integrate as integrate\n",
    "#import scipy.interpolate as interp\n",
    "%matplotlib inline\n",
    "import matplotlib.pyplot as plt\n",
    "import scipy\n",
    "import math\n",
    "import time\n"
   ]
  },
  {
   "cell_type": "code",
   "execution_count": 2,
   "metadata": {},
   "outputs": [],
   "source": [
    "def K_matrix(phis, taus):\n",
    "    \"\"\"Returns the Kernel for BIE as bivariate function\n",
    "    \"\"\"\n",
    "    return np.ones((len(phis), len(taus))) * 1/(2*np.pi)\n",
    "\n",
    "#np.cos(theta-phi)\n",
    "def ke(r, phi, theta):\n",
    "    \"\"\"Returns the kernel function to find \n",
    "    the solution of BIE for the hole space -\n",
    "    three-variate function\"\"\"\n",
    "    kernel = (1 - r*np.cos(theta-phi)) /(r**2 + 1 - 2*r*np.cos(theta-phi))\n",
    "    return kernel\n",
    "\n",
    "\n",
    "def h(phi):\n",
    "    \"\"\"Returns the right-hand side univariate function \n",
    "    in BIE\"\"\"\n",
    "    return np.cos(2*phi)\n",
    "\n",
    "\n",
    "def E(r, phi):\n",
    "    \"\"\"The exact solution of the Dirichlet BVP\n",
    "    for Laplace equation\"\"\"\n",
    "    return (r**2) * np.cos(2*phi)"
   ]
  },
  {
   "cell_type": "code",
   "execution_count": 3,
   "metadata": {},
   "outputs": [],
   "source": [
    "phis = np.linspace(0, 2*np.pi, 300)\n",
    "rs = np.linspace(1e-3, 0.5, 200, endpoint=False)\n",
    "r_mesh, phis_mesh = np.meshgrid(rs, phis)\n",
    "x_mesh, y_mesh = r_mesh * np.cos(phis_mesh), r_mesh * np.sin(phis_mesh)\n",
    "E_mesh = np.zeros_like(r_mesh)\n",
    "for i in range(len(rs)):\n",
    "    for j in range(len(phis)):\n",
    "            E_mesh[j][i] = E(rs[i], phis[j])"
   ]
  },
  {
   "cell_type": "code",
   "execution_count": 4,
   "metadata": {},
   "outputs": [],
   "source": [
    "import shapely\n",
    "from shapely.geometry.point import Point\n",
    "p = Point(0, 0)\n",
    "circle = p.buffer(0.5)\n",
    "x, y = np.array(circle.exterior).T\n",
    "z = np.zeros_like(x)"
   ]
  },
  {
   "cell_type": "code",
   "execution_count": 5,
   "metadata": {},
   "outputs": [],
   "source": [
    "phi = np.linspace(0, 2*np.pi, 1200)\n",
    "x1, y1, z1 = 0.5*np.cos(phi), 0.5*np.sin(phi), h(phi)"
   ]
  },
  {
   "cell_type": "code",
   "execution_count": 6,
   "metadata": {},
   "outputs": [],
   "source": [
    "def taus_omegas_Spline32(a, b, x, w):\n",
    "    \n",
    "    taus_n = (b - a)/1 * x + a\n",
    "    omegas_n = w*(b - a)/1\n",
    "    \n",
    "    omegas = np.append(omegas_n[:-1], omegas_n[::-1])\n",
    "    taus = taus_n - taus_n.max() \n",
    "    taus = np.append(taus_n[:-1], -taus[::-1] + taus_n[-1])\n",
    "    \n",
    "    return taus, omegas\n",
    "    "
   ]
  },
  {
   "cell_type": "code",
   "execution_count": 7,
   "metadata": {},
   "outputs": [],
   "source": [
    "with open('TargetNodes_d=3_k=2_N=1.txt', 'r') as ff:\n",
    "    x = np.loadtxt(ff)\n",
    "with open('TargetWeights_d=3_k=2_N=1.txt', 'r') as ff:\n",
    "    w = np.loadtxt(ff)\n",
    "taus, omegas = taus_omegas_Spline32(0, 2*np.pi, x, w)"
   ]
  },
  {
   "cell_type": "code",
   "execution_count": 8,
   "metadata": {
    "scrolled": true
   },
   "outputs": [],
   "source": [
    "np.set_printoptions(precision=55)"
   ]
  },
  {
   "cell_type": "code",
   "execution_count": 9,
   "metadata": {},
   "outputs": [
    {
     "data": {
      "text/plain": [
       "array([0.19162901076059377, 0.9438481647722337 , 2.0077252205171416 ,\n",
       "       3.141592653589793  , 4.275460086662445  , 5.339337142407352  ,\n",
       "       6.091556296418993  ])"
      ]
     },
     "execution_count": 9,
     "metadata": {},
     "output_type": "execute_result"
    }
   ],
   "source": [
    "taus"
   ]
  },
  {
   "cell_type": "markdown",
   "metadata": {},
   "source": [
    "## Spline 32"
   ]
  },
  {
   "cell_type": "code",
   "execution_count": 10,
   "metadata": {},
   "outputs": [],
   "source": [
    "def test(N):\n",
    "    a = 0\n",
    "    b = 2 * np.pi\n",
    "\n",
    "    print(N)    # number of macroblocks\n",
    "    order = 7   # QP initial\n",
    "\n",
    "    phis = np.pi/14 #np.linspace(0, 2*np.pi, 300)\n",
    "    rs = 0.99 #np.linspace(1e-3, 1, 200, endpoint=False)\n",
    "\n",
    "    #### define taus, omegas for integration with macroblocks\n",
    "\n",
    "    with open('TargetNodes_d=3_k=2_N=1.txt', 'r') as ff:\n",
    "        x = np.loadtxt(ff)\n",
    "    with open('TargetWeights_d=3_k=2_N=1.txt', 'r') as ff:\n",
    "        w = np.loadtxt(ff)\n",
    "    \n",
    "    interval = np.linspace(a, b, N+1)\n",
    "    taus = []; omegas = []\n",
    "    for a_, b_ in zip(interval[:-1], interval[1:]):\n",
    "        t_, o_ = taus_omegas_Spline32(a_, b_, x, w)\n",
    "        taus.append(t_)\n",
    "        omegas.append(o_)\n",
    "    taus = np.ravel(taus)\n",
    "    omegas = np.ravel(omegas)\n",
    "    #return taus, omegas\n",
    "    #### block matrix and solution for sigmas\n",
    "\n",
    "    Ko_blocks = []\n",
    "    for taus_, omegas_ in zip(taus.reshape((N, order)),\n",
    "                              omegas.reshape((N, order))):\n",
    "        Ko_blocks.append(K_matrix(taus_, taus_) * omegas_)\n",
    "    Ko = scipy.linalg.block_diag(*Ko_blocks)\n",
    "\n",
    "    sigmas = np.dot(np.linalg.inv(np.identity(len(taus)) + Ko), 2*h(taus))\n",
    "\n",
    "    #### Nystrom algorithm\n",
    "\n",
    "    sigmas_ns = 2 * h(taus) - (K_matrix(taus, taus) * omegas) @ sigmas\n",
    "    \n",
    "    \n",
    "    #### final integration\n",
    "\n",
    "    rs_m, phis_m, thetas_m = np.meshgrid(rs, phis, taus, indexing='ij')\n",
    "    ke_matrix = ke(rs_m, phis_m, thetas_m)\n",
    "\n",
    "    integral = ((ke_matrix * sigmas_ns) * omegas).sum(axis=-1)\n",
    "\n",
    "    rs_m, phis_m = np.meshgrid(rs, phis, indexing='ij')\n",
    "    #x_mesh, y_mesh = rs_m * np.cos(phis_m), rs_m * np.sin(phis_m)\n",
    "    u_mesh = 1/(2*np.pi) * integral\n",
    "\n",
    "    E_mesh = E(rs_m, phis_m)\n",
    "    \n",
    "    #l2errors = np.sqrt(np.sum(np.power((E_mesh - u_mesh)*(phis[1]-phis[0])*(rs[1]-rs[0]),2)))\n",
    "\n",
    "    return (abs(E_mesh - u_mesh)).max() #, l2errors\n",
    "    #return taus, omegas"
   ]
  },
  {
   "cell_type": "code",
   "execution_count": 11,
   "metadata": {},
   "outputs": [
    {
     "name": "stdout",
     "output_type": "stream",
     "text": [
      "2\n"
     ]
    },
    {
     "ename": "TypeError",
     "evalue": "cannot unpack non-iterable numpy.float64 object",
     "output_type": "error",
     "traceback": [
      "\u001b[0;31m---------------------------------------------------------------------------\u001b[0m",
      "\u001b[0;31mTypeError\u001b[0m                                 Traceback (most recent call last)",
      "\u001b[0;32m<ipython-input-11-58b11de69c4f>\u001b[0m in \u001b[0;36m<module>\u001b[0;34m\u001b[0m\n\u001b[0;32m----> 1\u001b[0;31m \u001b[0mtaus\u001b[0m\u001b[0;34m,\u001b[0m \u001b[0momegas\u001b[0m \u001b[0;34m=\u001b[0m \u001b[0mtest\u001b[0m\u001b[0;34m(\u001b[0m\u001b[0;36m2\u001b[0m\u001b[0;34m)\u001b[0m\u001b[0;34m\u001b[0m\u001b[0;34m\u001b[0m\u001b[0m\n\u001b[0m",
      "\u001b[0;31mTypeError\u001b[0m: cannot unpack non-iterable numpy.float64 object"
     ]
    }
   ],
   "source": [
    "taus, omegas = test(2)"
   ]
  },
  {
   "cell_type": "code",
   "execution_count": null,
   "metadata": {},
   "outputs": [],
   "source": [
    "taus"
   ]
  },
  {
   "cell_type": "code",
   "execution_count": null,
   "metadata": {
    "scrolled": true
   },
   "outputs": [],
   "source": [
    "plt.plot(taus, omegas)"
   ]
  },
  {
   "cell_type": "code",
   "execution_count": null,
   "metadata": {},
   "outputs": [],
   "source": [
    "omegas"
   ]
  },
  {
   "cell_type": "code",
   "execution_count": null,
   "metadata": {
    "scrolled": true
   },
   "outputs": [],
   "source": [
    "print(round(errors[0], 2))"
   ]
  },
  {
   "cell_type": "code",
   "execution_count": 12,
   "metadata": {
    "scrolled": true
   },
   "outputs": [
    {
     "name": "stdout",
     "output_type": "stream",
     "text": [
      "1\n",
      "2\n",
      "4\n",
      "8\n",
      "16\n",
      "32\n",
      "64\n",
      "128\n"
     ]
    }
   ],
   "source": [
    "El = 8\n",
    "errors = np.zeros(El)\n",
    "me = np.zeros(El)\n",
    "l2err = np.zeros(El)\n",
    "for i in range(El):\n",
    "    Ns = 2**i    #21 qp per element\n",
    "    errors[i] = test(Ns)"
   ]
  },
  {
   "cell_type": "code",
   "execution_count": 13,
   "metadata": {},
   "outputs": [],
   "source": [
    "ns = 7*2**np.arange(El) \n",
    "ms = ns\n",
    "errs_rel = errors[:-1] / errors[1:]\n",
    "errs_log = np.log2(errs_rel)\n"
   ]
  },
  {
   "cell_type": "code",
   "execution_count": 14,
   "metadata": {},
   "outputs": [
    {
     "name": "stdout",
     "output_type": "stream",
     "text": [
      "   m\tMax Error\tLog_2(Max Error)\n",
      "---------------------------------------\n",
      "14.000000\t8.16e-01\t            \n",
      "28\t2.07e+00\t-1.34e+00\n",
      "56\t3.38e-01\t2.62e+00\n",
      "112\t4.87e-01\t-5.27e-01\n",
      "224\t2.45e-01\t9.92e-01\n",
      "448\t1.93e-02\t3.66e+00\n",
      "896\t1.17e-03\t4.05e+00\n"
     ]
    }
   ],
   "source": [
    "msg = '{:>4}\\t{:>8}\\t{:>12}'.format('m', 'Max Error', 'Log_2(Max Error)')\n",
    "\n",
    "print(msg)\n",
    "print('-'*(len(msg)+8))\n",
    "\n",
    "for i in range(1, El): \n",
    "    if i == 1:\n",
    "        print('{:4f}\\t{:.2e}\\t{:>12}'.format(ms[i], errors[i],  ''))\n",
    "        \n",
    "    else:\n",
    "        print('{:.0f}\\t{:.2e}\\t{:.2e}'.format(ms[i], errors[i], errs_log[i-1]))"
   ]
  },
  {
   "cell_type": "code",
   "execution_count": null,
   "metadata": {},
   "outputs": [],
   "source": [
    "gauss2 = [9.4354934300106130e-01, 8.1666042231053249e-01,\n",
    "       6.4336771182371377e-01, 3.5689045252101748e-01,\n",
    "       5.7321554646218464e-02, 2.9676212035387950e-02,\n",
    "       5.1145518910488130e-03, 5.9072467556320341e-05,\n",
    "       7.2562886810345617e-09, 2.1127544158616729e-13]"
   ]
  },
  {
   "cell_type": "code",
   "execution_count": null,
   "metadata": {},
   "outputs": [],
   "source": [
    "simpson = [1.56019771e+01, 7.32432908e+00, 3.20886295e+00, 1.19726659e+00,\n",
    "       2.79304972e-01, 3.41503668e-02, 3.94664795e-02, 3.81571388e-03,\n",
    "       2.26147370e-05, 7.66841812e-10]"
   ]
  },
  {
   "cell_type": "code",
   "execution_count": null,
   "metadata": {},
   "outputs": [],
   "source": [
    "trapezoidal = [4.87661313e+01, 2.38930156e+01, 1.14665007e+01, 5.27327239e+00,\n",
    "       2.21626804e+00, 7.63545739e-01, 1.65273660e-01, 1.17185553e-02,\n",
    "       6.78534169e-05, 2.30149022e-09]"
   ]
  },
  {
   "cell_type": "code",
   "execution_count": null,
   "metadata": {},
   "outputs": [],
   "source": [
    "errors[1:]"
   ]
  },
  {
   "cell_type": "code",
   "execution_count": null,
   "metadata": {},
   "outputs": [],
   "source": [
    "plt.yscale('log')\n",
    "plt.xscale('log')\n",
    "h1, = plt.plot(ms[1:-2], errors[1:-2], 's-', color='red', label='Cubic Spline')\n",
    "h2, = plt.plot(ms[1:-2], gauss2[:-2], 'v-', color='black', label='Polynomial Gauss, deg. 3')\n",
    "h3, = plt.plot(ms[1:-2], simpson[:-2], 'x-', color='blue', label=\"Simpson's rule\")\n",
    "h4, = plt.plot(ms[1:-2], trapezoidal[:-2], 'o-', color='green', label='Trapezoidal rule')\n",
    "plt.legend(handles=[h1, h2, h3, h4], loc=3, fancybox=True)\n",
    "plt.xlabel(\"Quadrature points\")\n",
    "plt.ylabel(\"Error\")\n",
    "plt.savefig('images/ConvercenceCubic_099pi_cos2phi.png', dpi = 1000)"
   ]
  },
  {
   "cell_type": "code",
   "execution_count": null,
   "metadata": {},
   "outputs": [],
   "source": [
    "errors"
   ]
  },
  {
   "cell_type": "code",
   "execution_count": null,
   "metadata": {},
   "outputs": [],
   "source": []
  }
 ],
 "metadata": {
  "kernelspec": {
   "display_name": "Python 3",
   "language": "python",
   "name": "python3"
  },
  "language_info": {
   "codemirror_mode": {
    "name": "ipython",
    "version": 3
   },
   "file_extension": ".py",
   "mimetype": "text/x-python",
   "name": "python",
   "nbconvert_exporter": "python",
   "pygments_lexer": "ipython3",
   "version": "3.7.6"
  }
 },
 "nbformat": 4,
 "nbformat_minor": 4
}
