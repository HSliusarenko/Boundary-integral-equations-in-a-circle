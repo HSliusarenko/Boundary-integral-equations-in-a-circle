{
 "cells": [
  {
   "cell_type": "markdown",
   "metadata": {},
   "source": [
    "# FIE for Dirichlet BVP in a circle with Polynomial Gauss rule"
   ]
  },
  {
   "cell_type": "code",
   "execution_count": 1,
   "metadata": {},
   "outputs": [],
   "source": [
    "import numpy as np\n",
    "import scipy.integrate as integrate\n",
    "#import scipy.interpolate as interp\n",
    "%matplotlib inline\n",
    "import matplotlib.pyplot as plt\n",
    "import scipy\n",
    "import math\n",
    "import time\n"
   ]
  },
  {
   "cell_type": "code",
   "execution_count": 2,
   "metadata": {},
   "outputs": [],
   "source": [
    "def K_matrix(phis, taus):\n",
    "    \"\"\"Returns the Kernel for BIE as bivariate function\n",
    "    \"\"\"\n",
    "    return np.ones((len(phis), len(taus))) * 1/(2*np.pi)\n",
    "\n",
    "#np.cos(theta-phi)\n",
    "def ke(r, phi, theta):\n",
    "    \"\"\"Returns the kernel function to find \n",
    "    the solution of BIE for the hole space -\n",
    "    three-variate function\"\"\"\n",
    "    kernel = (1 - r*np.cos(theta-phi)) / \\\n",
    "                 (r**2 + 1 - 2*r*np.cos(theta-phi))\n",
    "    return kernel\n",
    "\n",
    "def ke_Poisson(r, phi, theta):\n",
    "    kernel = (1 - r*r) / \\\n",
    "                 (r**2 + 1 - 2*r*np.cos(theta-phi))\n",
    "    return kernel\n",
    "\n",
    "\n",
    "def h(phi):\n",
    "    \"\"\"Returns the right-hand side univariate function \n",
    "    in BIE\"\"\"\n",
    "    return np.cos(2*phi)\n",
    "\n",
    "\n",
    "def E(r, phi):\n",
    "    \"\"\"The exact solution of the Dirichlet BVP\n",
    "    for Laplace equation\"\"\"\n",
    "    return (r**2) * np.cos(2*phi)"
   ]
  },
  {
   "cell_type": "code",
   "execution_count": 3,
   "metadata": {},
   "outputs": [],
   "source": [
    "def taus_omegas_trapezoid(a, b, order):\n",
    "    taus = np.linspace(a, b, order)\n",
    "    omegas = np.ones(order)*(b - a)/(1.0*(order-1))\n",
    "    omegas[0] = (b - a)/(2.0*(order-1))\n",
    "    omegas[-1] = (b - a)/(2.0*(order-1))\n",
    "    \n",
    "    return taus, omegas "
   ]
  },
  {
   "cell_type": "code",
   "execution_count": 4,
   "metadata": {},
   "outputs": [],
   "source": [
    "taus, omegas = taus_omegas_trapezoid(0, 2*np.pi, 21)"
   ]
  },
  {
   "cell_type": "code",
   "execution_count": 5,
   "metadata": {},
   "outputs": [
    {
     "data": {
      "text/plain": [
       "6.283185307179586"
      ]
     },
     "execution_count": 5,
     "metadata": {},
     "output_type": "execute_result"
    }
   ],
   "source": [
    "omegas.sum()"
   ]
  },
  {
   "cell_type": "markdown",
   "metadata": {},
   "source": [
    "## Trapezoidal"
   ]
  },
  {
   "cell_type": "code",
   "execution_count": 6,
   "metadata": {},
   "outputs": [],
   "source": [
    "def test(N):\n",
    "    a = 0\n",
    "    b = 2 * np.pi\n",
    "\n",
    "    print(N)    # number of macroblocks\n",
    "    order = 10  #5\n",
    "\n",
    "    phis = np.linspace(0, 2*np.pi, 300)\n",
    "    rs =   np.linspace(1e-3, 1, 100, endpoint=False)\n",
    "\n",
    "    #### define taus, omegas for integration with macroblocks\n",
    "\n",
    "       \n",
    "    interval = np.linspace(a, b, N+1)\n",
    "    taus = []; omegas = []\n",
    "    for a_, b_ in zip(interval[:-1], interval[1:]):\n",
    "        t_, o_ = taus_omegas_trapezoid(a_, b_, order)\n",
    "        taus.append(t_)\n",
    "        omegas.append(o_)\n",
    "    taus = np.ravel(taus)\n",
    "    omegas = np.ravel(omegas)\n",
    "\n",
    "    #### block matrix and solution for sigmas\n",
    "\n",
    "    Ko_blocks = []\n",
    "    for taus_, omegas_ in zip(taus.reshape((N, order)),\n",
    "                              omegas.reshape((N, order))):\n",
    "        Ko_blocks.append(K_matrix(taus_, taus_) * omegas_)\n",
    "    Ko = scipy.linalg.block_diag(*Ko_blocks)\n",
    "\n",
    "    sigmas = np.dot(np.linalg.inv(np.identity(len(taus)) + Ko), 2*h(taus))\n",
    "\n",
    "    #### Nystrom algorithm\n",
    "\n",
    "    sigmas_ns = 2 * h(taus) - (K_matrix(taus, taus) * omegas) @ sigmas\n",
    "    \n",
    "    \n",
    "    #### final integration\n",
    "\n",
    "    rs_m, phis_m, thetas_m = np.meshgrid(rs, phis, taus, indexing='ij')\n",
    "    ke_matrix = ke(rs_m, phis_m, thetas_m)\n",
    "\n",
    "    integral = ((ke_matrix * sigmas_ns) * omegas).sum(axis=-1)\n",
    "\n",
    "    rs_m, phis_m = np.meshgrid(rs, phis, indexing='ij')\n",
    "    x_mesh, y_mesh = rs_m * np.cos(phis_m), rs_m * np.sin(phis_m)\n",
    "    u_mesh = 1/(2*np.pi) * integral\n",
    "\n",
    "    E_mesh = E(rs_m, phis_m)\n",
    "    \n",
    "    # l2errors = np.sqrt(np.sum(np.power((E_mesh - u_mesh)*(phis[1]-phis[0])*(rs[1]-rs[0]),2)))\n",
    "    \n",
    "    val = abs(E_mesh - u_mesh)\n",
    "    \n",
    "    return (abs(E_mesh - u_mesh)).max(), E_mesh - u_mesh, E_mesh, x_mesh, y_mesh\n",
    "    #return (abs(E_mesh - u_mesh)).max() #, l2errors\n",
    "    #return x_mesh, y_mesh, u_mesh, (abs(E_mesh - u_mesh)).max()"
   ]
  },
  {
   "cell_type": "code",
   "execution_count": 7,
   "metadata": {},
   "outputs": [
    {
     "name": "stdout",
     "output_type": "stream",
     "text": [
      "32\n"
     ]
    }
   ],
   "source": [
    "errors,error_mesh, E_mesh, x_mesh, y_mesh = test(32)"
   ]
  },
  {
   "cell_type": "code",
   "execution_count": 1,
   "metadata": {},
   "outputs": [
    {
     "ename": "NameError",
     "evalue": "name 'error_mesh' is not defined",
     "output_type": "error",
     "traceback": [
      "\u001b[0;31m---------------------------------------------------------------------------\u001b[0m",
      "\u001b[0;31mNameError\u001b[0m                                 Traceback (most recent call last)",
      "\u001b[0;32m<ipython-input-1-8e4cee2d1f80>\u001b[0m in \u001b[0;36m<module>\u001b[0;34m\u001b[0m\n\u001b[1;32m      1\u001b[0m \u001b[0;32mimport\u001b[0m \u001b[0mpickle\u001b[0m\u001b[0;34m\u001b[0m\u001b[0;34m\u001b[0m\u001b[0m\n\u001b[1;32m      2\u001b[0m \u001b[0;32mwith\u001b[0m \u001b[0mopen\u001b[0m\u001b[0;34m(\u001b[0m\u001b[0;34m'trapezoid_336_cos2phi.pkl'\u001b[0m\u001b[0;34m,\u001b[0m \u001b[0;34m'wb'\u001b[0m\u001b[0;34m)\u001b[0m\u001b[0;32mas\u001b[0m \u001b[0mff\u001b[0m\u001b[0;34m:\u001b[0m\u001b[0;34m\u001b[0m\u001b[0;34m\u001b[0m\u001b[0m\n\u001b[0;32m----> 3\u001b[0;31m     \u001b[0mpickle\u001b[0m\u001b[0;34m.\u001b[0m\u001b[0mdump\u001b[0m\u001b[0;34m(\u001b[0m\u001b[0merror_mesh\u001b[0m\u001b[0;34m,\u001b[0m \u001b[0mff\u001b[0m\u001b[0;34m)\u001b[0m\u001b[0;34m\u001b[0m\u001b[0;34m\u001b[0m\u001b[0m\n\u001b[0m",
      "\u001b[0;31mNameError\u001b[0m: name 'error_mesh' is not defined"
     ]
    }
   ],
   "source": [
    "import pickle\n",
    "with open('trapezoid_336_cos2phi.pkl', 'wb')as ff:\n",
    "    pickle.dump(error_mesh, ff)"
   ]
  },
  {
   "cell_type": "code",
   "execution_count": null,
   "metadata": {},
   "outputs": [],
   "source": []
  }
 ],
 "metadata": {
  "kernelspec": {
   "display_name": "Python 3",
   "language": "python",
   "name": "python3"
  },
  "language_info": {
   "codemirror_mode": {
    "name": "ipython",
    "version": 3
   },
   "file_extension": ".py",
   "mimetype": "text/x-python",
   "name": "python",
   "nbconvert_exporter": "python",
   "pygments_lexer": "ipython3",
   "version": "3.7.6"
  }
 },
 "nbformat": 4,
 "nbformat_minor": 4
}
